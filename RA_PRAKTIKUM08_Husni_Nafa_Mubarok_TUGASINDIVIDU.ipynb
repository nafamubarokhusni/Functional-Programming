{
 "cells": [
  {
   "cell_type": "markdown",
   "metadata": {
    "id": "oXfRGK0058nr"
   },
   "source": [
    "# **TUGAS INDIVIDU PRAKTIKUM PBF MODUL 8**\n",
    "\n",
    "**NAMA: Husni Na'fa Mubarok**\n",
    "\n",
    "**NIM: 121450078**\n",
    "\n",
    "**KELAS: RA**"
   ]
  },
  {
   "cell_type": "markdown",
   "metadata": {
    "id": "XDecrdNV5kFq"
   },
   "source": [
    "## 1. Sum of an Array/list"
   ]
  },
  {
   "cell_type": "code",
   "execution_count": 27,
   "metadata": {
    "colab": {
     "base_uri": "https://localhost:8080/"
    },
    "id": "XoghJKScyErA",
    "outputId": "f61af3aa-e57e-4131-857c-d08f6feb8de6",
    "tags": []
   },
   "outputs": [
    {
     "name": "stdout",
     "output_type": "stream",
     "text": [
      "10\n"
     ]
    }
   ],
   "source": [
    "# Find the sum of an array/list\n",
    "\n",
    "# mendefinisikan fungsi rekursif sum() untuk menjumlahkan list A\n",
    "def sum(A):\n",
    "    if len(A) == 0: # jika panjang dari list = 0 atau kosong\n",
    "        return 0 # mengembalikan nilai 0\n",
    "    if len(A) == 1: # jika panjang dari list = 1 \n",
    "        return A[0] # mengembalikan nilai dari elemen tersebut\n",
    "      # Kondisi 3: jika list hanya berisi  > 1 elemen, maka tambahkan elemen pertama dengan jumlah dari sisa elemen yang ada pada list\n",
    "    if len(A) > 1: # jika panjang dari list > 1 \n",
    "        return A[0] + sum(A[1:]) # mengembalikan nilai sesuai kondisi yang telah ditentukan\n",
    "\n",
    "# menggunakan fungsi rekursif dengan list A berisi [1,2,3]\n",
    "print(sum([1,2,3,4]))"
   ]
  },
  {
   "cell_type": "markdown",
   "metadata": {
    "id": "HdRSJpAE5phP"
   },
   "source": [
    "## 2. Reverse a List Recursively"
   ]
  },
  {
   "cell_type": "code",
   "execution_count": 3,
   "metadata": {
    "colab": {
     "base_uri": "https://localhost:8080/"
    },
    "id": "9W--2OImz-Ro",
    "outputId": "36e0a9d6-8b01-4e40-8a14-ead1c8e9dec3",
    "tags": []
   },
   "outputs": [
    {
     "name": "stdout",
     "output_type": "stream",
     "text": [
      "[1, 2, 3, 4, 5]\n"
     ]
    }
   ],
   "source": [
    "# Reverse a list recursively. Difficulty: Medium\n",
    "\n",
    "# mendefinisikan fungsi reverseList() untuk membalikkan nilai elemen pada list secara rekursif\n",
    "def reverseList(A, rev):\n",
    "  # Kondisi 1: jika input list kosong, maka kembalikan None\n",
    "  if not A: # jika input list kosong\n",
    "    return # mengembalikan None\n",
    "  # Kondisi 2: memanggil fungsi secra rekursif dengan sisa dari elemen yang ada pada list, tetapi tidak termasuk elemen pertama \n",
    "  reverseList(A[1:], rev) # panggil fungsi secara rekursif dengan sisa yang ada pada list\n",
    "  rev.append(A[0]) # append elemen pertama dari input list ke list 'rev' \n",
    "\n",
    "# membentuk list 'rev' yang kosong\n",
    "rev = []\n",
    "\n",
    "# menggunakan fungsi rekursif dengan list A berisi [3,2,1] dan list rev kosong\n",
    "reverseList([3,2,1], rev)\n",
    "# menampilkan hasil\n",
    "print(rev)"
   ]
  },
  {
   "cell_type": "markdown",
   "metadata": {
    "id": "axCsMG1h5v3a"
   },
   "source": [
    "## 3. Find a Subsets of a Set"
   ]
  },
  {
   "cell_type": "code",
   "execution_count": 31,
   "metadata": {
    "colab": {
     "base_uri": "https://localhost:8080/"
    },
    "id": "ZEappH_c1UJ3",
    "outputId": "4a07096f-d9d9-4069-ffa8-a3276fbe42c2",
    "tags": []
   },
   "outputs": [
    {
     "name": "stdout",
     "output_type": "stream",
     "text": [
      "[]\n",
      "[2]\n",
      "[1]\n",
      "[1, 2]\n",
      "[]\n",
      "['I']\n",
      "['N']\n",
      "['N', 'I']\n",
      "[['U', 'S']]\n",
      "[['U', 'S'], 'I']\n",
      "[['U', 'S'], 'N']\n",
      "[['U', 'S'], 'N', 'I']\n",
      "['H']\n",
      "['H', 'I']\n",
      "['H', 'N']\n",
      "['H', 'N', 'I']\n",
      "['H', ['U', 'S']]\n",
      "['H', ['U', 'S'], 'I']\n",
      "['H', ['U', 'S'], 'N']\n",
      "['H', ['U', 'S'], 'N', 'I']\n"
     ]
    }
   ],
   "source": [
    "# Find all subsets of a set. Difficulty: Hard\n",
    "\n",
    "def print_set(subset):\n",
    "    temp = []\n",
    "    for x in subset:\n",
    "        if x != None:\n",
    "            temp.append(x)\n",
    "    print(temp) # mengeluarkan nilai list temp yang sudah di-append\n",
    "\n",
    "# mendefinisikan fungsi all_subsets() dengan parameter berupa given_array\n",
    "def all_subsets(given_array):\n",
    "    # membuat sebuah array baru yang memiliki panjang yang sama dengan given_array, kemudian diisi dengan None\n",
    "    subset = [None] * len(given_array)\n",
    "    # memanggil fungsi helper dengan memberikan given_array sebagai array awal, subset sebagai array yang diinisialisasi dengan None, dan 0 sebagai indeks awal untuk memproses given_array\n",
    "    helper(given_array, subset, 0)\n",
    "\n",
    "# mendefinisikan fungsi helper() untuk menghasilkan subset-subset dari given_array\n",
    "def helper(given_array, subset, i):\n",
    "    # mengecek apakah i sudah mencapai panjang given_array\n",
    "    if i == len(given_array):\n",
    "        # memanggil fungsi print_set\n",
    "        print_set(subset)\n",
    "    else: # jika belum terpenuhi, dilanjutkan dengan code berikut\n",
    "        # menginisialisasi subset[i] dengan None, \n",
    "        subset[i] = None\n",
    "        # memanggil kembali fungsi helper()\n",
    "        helper(given_array, subset, i+1)\n",
    "        # menginisialisasi subset[i] dengan given_array[i]\n",
    "        subset[i] = given_array[i]\n",
    "        # memanggil kembali fungsi helper()\n",
    "        helper(given_array, subset, i+1)\n",
    "\n",
    "# memanggil fungsi all_subset dengan givane_array [1,2]\n",
    "all_subsets([1,2])\n",
    "all_subsets(['H',['U','S'],'N','I'])"
   ]
  },
  {
   "cell_type": "markdown",
   "metadata": {
    "id": "CURoXoUp53er"
   },
   "source": [
    "## 4. Soal 4"
   ]
  },
  {
   "cell_type": "code",
   "execution_count": 15,
   "metadata": {
    "colab": {
     "base_uri": "https://localhost:8080/"
    },
    "id": "t4iDJl-X3JYX",
    "outputId": "dc571524-5744-4ead-b58a-1fa836c1e13c"
   },
   "outputs": [
    {
     "name": "stdout",
     "output_type": "stream",
     "text": [
      "pivot 6\n",
      "1 [[2, 5, 1, 2]]\n",
      "m [[6]]\n",
      "r [[]]\n",
      "pivot 1\n",
      "1 [[]]\n",
      "m [[1]]\n",
      "r [[2, 5, 2]]\n",
      "[]\n",
      "pivot 5\n",
      "1 [[2, 2]]\n",
      "m [[5]]\n",
      "r [[]]\n",
      "pivot 2\n",
      "1 [[]]\n",
      "m [[2, 2]]\n",
      "r [[]]\n",
      "[]\n",
      "[]\n",
      "[]\n",
      "[]\n",
      "[1, 2, 2, 5, 6]\n"
     ]
    }
   ],
   "source": [
    "# Implement Quick Sort Algorithm\n",
    "\n",
    "# mendefinisikan fungsi rekursif quicksort() dengan parameter berupa arr\n",
    "def quicksort(arr):\n",
    "  # Kondisi 1: jika panjang array < 1, maka kembalikan nilai array\n",
    "  if len(arr) <= 1: #jika panjang array < 1\n",
    "    print(arr)\n",
    "    return(arr) # mengembalikan nilai array\n",
    "\n",
    "  # Kondisi 2: memilih elemen pivot sebagai nilai tengah dari array\n",
    "  pivot = arr[len(arr) // 2] # membagi array menjadi 3 bagian\n",
    "  print(f'pivot {pivot}')\n",
    "  left = [x for x in arr if x < pivot]\n",
    "  middle = [x for x in arr if x == pivot]\n",
    "  right = [x for x in arr if x > pivot]\n",
    "\n",
    "  print(\"1\", [left])\n",
    "  print(\"m\", [middle])\n",
    "  print(\"r\", [right])\n",
    "  # mengembalikan quicksort()\n",
    "  return quicksort(left) + middle + quicksort(right)\n",
    "\n",
    "# menampilan hasil quick sort dengan arr [2,5,6,1,2]\n",
    "print(quicksort([2,5,6,1,2]))   "
   ]
  },
  {
   "cell_type": "markdown",
   "metadata": {
    "id": "-4tw_eiuIUCr"
   },
   "source": [
    "def quicksort(arr):: Baris ini mendefinisikan sebuah fungsi bernama quicksort yang mengambil sebuah input berupa list arr sebagai parameter, yang mewakili list yang akan diurutkan menggunakan algoritma quicksort.\n",
    "\n",
    "if len(arr) <= 1:: Baris ini memeriksa apakah panjang arr kurang dari atau sama dengan 1, yang merupakan base case untuk rekursi dalam algoritma quicksort. Jika panjang arr adalah 1 atau kurang, artinya list sudah terurut, sehingga fungsi mencetak list yang sudah terurut menggunakan print(arr) dan mengembalikan list arr asli tanpa perubahan.\n",
    "\n",
    "print(arr): Baris ini mencetak status terkini dari arr, yang mewakili list yang sedang diurutkan atau dikembalikan pada base case.\n",
    "\n",
    "return(arr): Baris ini mengembalikan list arr asli tanpa perubahan, karena list sudah terurut atau hanya berisi satu elemen, yang menjadi base case untuk rekursi.\n",
    "\n",
    "pivot = arr[len(arr) // 2]: Baris ini menghitung indeks dari elemen pivot sebagai indeks tengah dari arr menggunakan pembagian integer (//). Kemudian, nilai dari elemen pada indeks tersebut diassign ke variabel pivot, yang akan digunakan sebagai elemen pivot dalam langkah pembagian (partitioning) algoritma quicksort.\n",
    "\n",
    "print(f'pivot {pivot}'): Baris ini mencetak nilai dari elemen pivot, yang merupakan elemen yang dipilih sebagai pivot untuk langkah pembagian saat ini.\n",
    "\n",
    "left = [x for x in arr if x < pivot]: Baris ini membuat list baru left menggunakan list comprehension yang mencakup semua elemen dari arr yang kurang dari elemen pivot pivot. Ini mewakili elemen-elemen yang akan dipindahkan ke sebelah kiri pivot dalam panggilan rekursif berikutnya.\n",
    "\n",
    "middle = [x for x in arr if x == pivot]: Baris ini membuat list baru middle menggunakan list comprehension yang mencakup semua elemen dari arr yang sama dengan elemen pivot pivot. Ini mewakili elemen-elemen yang sama dengan pivot dan akan digabungkan dengan pivot dalam list terurut akhir.\n",
    "\n",
    "right = [x for x in arr if x > pivot]: Baris ini membuat list baru right menggunakan list comprehension yang mencakup semua elemen dari arr yang lebih besar dari elemen pivot pivot. Ini mewakili elemen-elemen yang akan dipindahkan ke sebelah kanan pivot dalam panggilan rekursif berikutnya.\n",
    "\n",
    "print(\"1\", [left]), print(\"m\", [middle]), print(\"r\", [right]): Baris-baris ini mencetak status terkini dari list left, middle, dan right, yang mewakili elemen-elemen yang kurang dari, sama dengan, dan lebih besar dari pivot, masing-masing, untuk langkah pembagian saat ini.\n",
    "\n",
    "return quicksort(left) + middle + quicksort(right): Baris ini secara rekursif memanggil fungsi `"
   ]
  },
  {
   "cell_type": "code",
   "execution_count": 18,
   "metadata": {
    "tags": []
   },
   "outputs": [],
   "source": [
    "arr = [2,5,6,1,2]\n",
    "list1 = sorted(arr)"
   ]
  },
  {
   "cell_type": "code",
   "execution_count": 14,
   "metadata": {
    "tags": []
   },
   "outputs": [
    {
     "data": {
      "text/plain": [
       "6"
      ]
     },
     "execution_count": 14,
     "metadata": {},
     "output_type": "execute_result"
    }
   ],
   "source": [
    "arr[len(arr) // 2]"
   ]
  },
  {
   "cell_type": "code",
   "execution_count": 19,
   "metadata": {
    "tags": []
   },
   "outputs": [
    {
     "data": {
      "text/plain": [
       "[1, 2, 2, 5, 6]"
      ]
     },
     "execution_count": 19,
     "metadata": {},
     "output_type": "execute_result"
    }
   ],
   "source": [
    "list1"
   ]
  },
  {
   "cell_type": "code",
   "execution_count": 20,
   "metadata": {
    "tags": []
   },
   "outputs": [
    {
     "data": {
      "text/plain": [
       "2"
      ]
     },
     "execution_count": 20,
     "metadata": {},
     "output_type": "execute_result"
    }
   ],
   "source": [
    "list1[len(list1) // 2]"
   ]
  }
 ],
 "metadata": {
  "colab": {
   "provenance": []
  },
  "kernelspec": {
   "display_name": "Python 3 (ipykernel)",
   "language": "python",
   "name": "python3"
  },
  "language_info": {
   "codemirror_mode": {
    "name": "ipython",
    "version": 3
   },
   "file_extension": ".py",
   "mimetype": "text/x-python",
   "name": "python",
   "nbconvert_exporter": "python",
   "pygments_lexer": "ipython3",
   "version": "3.11.2"
  }
 },
 "nbformat": 4,
 "nbformat_minor": 4
}
