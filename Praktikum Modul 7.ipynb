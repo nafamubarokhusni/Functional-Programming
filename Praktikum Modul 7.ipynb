{
 "cells": [
  {
   "cell_type": "markdown",
   "id": "78311d75-cf0b-48e2-895d-f98dc2f235b8",
   "metadata": {},
   "source": [
    "Nama : Husni Na'fa Mubarok\n",
    "<br>NIM : 121450078\n",
    "<br>Kelas : RA"
   ]
  },
  {
   "cell_type": "code",
   "execution_count": 72,
   "id": "56c09a75-025f-4278-941b-87df507e8491",
   "metadata": {
    "tags": []
   },
   "outputs": [
    {
     "name": "stdout",
     "output_type": "stream",
     "text": [
      "[(1, 'Audemars Piguet', 65, 450.5), (2, 'Vacheron Constantin', 1, 790.0), (3, 'Patek Philippe', 18, 664.99), (4, 'Blancpain', 45, 356.0), (5, 'Chopard', 23, 1264.3), (6, 'IWC Schaffhausen', 11, 99.99), (7, 'Rolex', 0, 520.0), (8, 'Ulysse Nardin', 34, 340.0), (9, 'Jaeger-LeCoultre', 2, 956.0), (10, 'Panerai', 8, 120.0)]\n"
     ]
    }
   ],
   "source": [
    "import openpyxl\n",
    "from functools import reduce\n",
    "import math\n",
    "\n",
    "wb = openpyxl.load_workbook('hm.xlsx')\n",
    "sheet = wb.active\n",
    "rows = sheet.max_row\n",
    "cols = sheet.max_column\n",
    "watch = []\n",
    "for i in range(4, rows + 1):\n",
    "    for j in range(2, cols+1,2):\n",
    "        cell = sheet.cell(row=i, column =j)\n",
    "        if cell.value is None:\n",
    "            continue\n",
    "        watch.append(str(cell.value).strip())\n",
    "        \n",
    "id = []\n",
    "item = []\n",
    "quantity = []\n",
    "unit_price = []\n",
    "for i in range(0, len(watch), 4):\n",
    "    id.append(int(watch[i]))\n",
    "    item.append(watch[i+1].strip())\n",
    "    quantity.append(int(watch[i+2]))\n",
    "    unit_price.append(float(watch[i+3].strip()))\n",
    "inventory = []\n",
    "for i, v in enumerate(id):\n",
    "    inventory.append((id[i], item[i], quantity[i], unit_price[i]))\n",
    "print(inventory)"
   ]
  },
  {
   "cell_type": "markdown",
   "id": "22f64d2c-8856-42aa-af5f-314d8c9cfb75",
   "metadata": {},
   "source": [
    "1. "
   ]
  },
  {
   "cell_type": "markdown",
   "id": "3bbf1adc-1db4-4386-b198-5ce290a857a5",
   "metadata": {},
   "source": [
    "Nomor 1A Menghitung Harga Termahal"
   ]
  },
  {
   "cell_type": "code",
   "execution_count": 32,
   "id": "708ecc9e-c0e8-4283-a9bd-df8c0f41c139",
   "metadata": {
    "tags": []
   },
   "outputs": [
    {
     "name": "stdout",
     "output_type": "stream",
     "text": [
      "---The most expensive watch---\n",
      "The Most Expensive Watch = 1264.3\n"
     ]
    }
   ],
   "source": [
    "print('---The most expensive watch---')\n",
    "expensive_watch = max(unit_price)\n",
    "\n",
    "print(f'The Most Expensive Watch = {expensive_watch}')"
   ]
  },
  {
   "cell_type": "markdown",
   "id": "b5f4baf0-ef43-44c7-bf26-78e8d0b5e59f",
   "metadata": {},
   "source": [
    "Nomor 1B Sorting Harga dan disimpan dalam inventory"
   ]
  },
  {
   "cell_type": "code",
   "execution_count": 39,
   "id": "4890c2d3-e88b-4e3e-9d74-e48672c16ec5",
   "metadata": {
    "tags": []
   },
   "outputs": [
    {
     "name": "stdout",
     "output_type": "stream",
     "text": [
      "---Sorted by price---\n",
      "\n",
      "[99.99, 120.0, 340.0, 356.0, 450.5, 520.0, 664.99, 790.0, 956.0, 1264.3]\n",
      "\n",
      "--or--\n",
      "\n",
      "[99.99, 120.0, 340.0, 356.0, 450.5, 520.0, 664.99, 790.0, 956.0, 1264.3]\n"
     ]
    }
   ],
   "source": [
    "print('---Sorted by price---\\n')\n",
    "\n",
    "s = sorted(unit_price)\n",
    "print(s)\n",
    "\n",
    "print('\\n--or--\\n')\n",
    "\n",
    "s = sorted(unit_price, key=lambda x:x)\n",
    "print(s)"
   ]
  },
  {
   "cell_type": "markdown",
   "id": "dcda90c6-7e2a-4755-b9a4-073d10a15f22",
   "metadata": {},
   "source": [
    "3. Nomor 1C Memetakan harga dengan jam"
   ]
  },
  {
   "cell_type": "code",
   "execution_count": 54,
   "id": "7864abc3-40d9-43db-aa4f-e3f498fa6dcc",
   "metadata": {
    "tags": []
   },
   "outputs": [
    {
     "name": "stdout",
     "output_type": "stream",
     "text": [
      "---Dictionary---\n",
      "{'Audemars Piguet': 29282.5, 'Vacheron Constantin': 790.0, 'Patek Philippe': 11969.82, 'Blancpain': 16020.0, 'Chopard': 29078.9, 'IWC Schaffhausen': 1099.89, 'Rolex': 0.0, 'Ulysse Nardin': 11560.0, 'Jaeger-LeCoultre': 1912.0, 'Panerai': 960.0}\n",
      "\n",
      "--or--\n",
      "\n",
      "{'Audemars Piguet': 29282.5, 'Vacheron Constantin': 790.0, 'Patek Philippe': 11969.82, 'Blancpain': 16020.0, 'Chopard': 29078.9, 'IWC Schaffhausen': 1099.89, 'Rolex': 0.0, 'Ulysse Nardin': 11560.0, 'Jaeger-LeCoultre': 1912.0, 'Panerai': 960.0}\n"
     ]
    }
   ],
   "source": [
    "print('---Dictionary---')\n",
    "\n",
    "d = dict(map(lambda x: [x[1], round((x[2]) * (x[3]), 2)], inventory))\n",
    "print(d)\n",
    "\n",
    "print('\\n--or--\\n')\n",
    "\n",
    "def make_dict(inventory):\n",
    "    d2 = {}\n",
    "    for i in inventory:\n",
    "        watch_brand = i[1]\n",
    "        total_cost = total_cost = round((i[2] * i[3]), 2)\n",
    "        \n",
    "        d2.update({watch_brand:total_cost})\n",
    "    return d2\n",
    "\n",
    "print(make_dict(inventory))"
   ]
  },
  {
   "cell_type": "markdown",
   "id": "73847bf0-72bf-4fb1-a28d-2cc8f52e952b",
   "metadata": {},
   "source": [
    "4. Nomor 1D"
   ]
  },
  {
   "cell_type": "code",
   "execution_count": 57,
   "id": "cc8f450d-47b5-4e65-80c4-bd98e6bea516",
   "metadata": {
    "tags": []
   },
   "outputs": [
    {
     "name": "stdout",
     "output_type": "stream",
     "text": [
      "---New Inventory---\n",
      "\n",
      "( Audemars Piguet - 65 items)  ->  420.5 eur\n",
      "( Vacheron Constantin - 1 items)  ->  790.0 eur\n",
      "( Patek Philippe - 18 items)  ->  664.99 eur\n",
      "( Blancpain - 45 items)  ->  326.0 eur\n",
      "( Chopard - 23 items)  ->  1264.3 eur\n",
      "( IWC Schaffhausen - 11 items)  ->  99.99 eur\n",
      "( Ulysse Nardin - 34 items)  ->  310.0 eur\n",
      "( Jaeger-LeCoultre - 2 items)  ->  956.0 eur\n",
      "( Panerai - 8 items)  ->  120.0 eur\n",
      "\n",
      " [(1, 'Audemars Piguet', 65, 420.5), (2, 'Vacheron Constantin', 1, 790.0), (3, 'Patek Philippe', 18, 664.99), (4, 'Blancpain', 45, 326.0), (5, 'Chopard', 23, 1264.3), (6, 'IWC Schaffhausen', 11, 99.99), (8, 'Ulysse Nardin', 34, 310.0), (9, 'Jaeger-LeCoultre', 2, 956.0), (10, 'Panerai', 8, 120.0)]\n"
     ]
    }
   ],
   "source": [
    "print(\"---New Inventory---\\n\")\n",
    "\n",
    "def new_inventory(inventory):\n",
    "    not_sold_out = []\n",
    "    new_inv = []\n",
    "    \n",
    "    for i in inventory:\n",
    "        if i[2]== 0:\n",
    "            continue\n",
    "        not_sold_out.append((i[0], i[1], i[2], i[3]))\n",
    "    \n",
    "    for i, v in enumerate(not_sold_out):\n",
    "        not_sold_out[i] = list(not_sold_out[i])\n",
    "        if not_sold_out[i][2] > 30:\n",
    "            if not_sold_out[i][3] > 500:\n",
    "                not_sold_out[i][3] -= 50\n",
    "            else:\n",
    "                not_sold_out[i][3] -= 30\n",
    "        not_sold_out[i] = tuple(not_sold_out[i])\n",
    "        \n",
    "    inventory = not_sold_out\n",
    "    \n",
    "    for i, v in enumerate(inventory):\n",
    "        print('(',inventory[i][1], '-', inventory[i][2],'items)', ' -> ',inventory[i][3],'eur')\n",
    "        new_inv.append((inventory[i][0], inventory[i][1], inventory[i][2],inventory[i][3]))\n",
    "        \n",
    "    return new_inv\n",
    "\n",
    "print('\\n',new_inventory(inventory))"
   ]
  },
  {
   "cell_type": "markdown",
   "id": "53a1e1aa-28c0-4276-95fc-8947abfd20bf",
   "metadata": {},
   "source": [
    "2. "
   ]
  },
  {
   "cell_type": "code",
   "execution_count": 74,
   "id": "c0532530-048b-47b3-bdd6-1f1c5914b0d6",
   "metadata": {
    "tags": []
   },
   "outputs": [],
   "source": [
    "id = []\n",
    "for cell in sheet[\"B\"]:\n",
    "    if cell.value is not None:\n",
    "        id.append(cell.value)\n",
    "        \n",
    "item = []\n",
    "for cell in sheet[\"D\"]:\n",
    "    if cell.value is not None:\n",
    "        cell.value = cell.value.strip()\n",
    "        item.append(cell.value)\n",
    "        \n",
    "quantity = []\n",
    "for cell in sheet[\"F\"]:\n",
    "    if cell.value is not None:\n",
    "        quantity.append(cell.value)\n",
    "        \n",
    "unit_price =[]\n",
    "for cell in sheet[\"H\"]:\n",
    "    if cell.value is not None:\n",
    "        unit_price.append(cell.value)\n",
    "\n",
    "inventory = []\n",
    "for i, v in enumerate(id):\n",
    "    if i == 0 or i == 1:\n",
    "        continue\n",
    "    inventory.append((id[i], item[i], quantity[i], float(unit_price[i])))"
   ]
  },
  {
   "cell_type": "markdown",
   "id": "24e735a7-05c9-43f3-b1e7-80c074da3ac2",
   "metadata": {},
   "source": [
    "Nomor 2A"
   ]
  },
  {
   "cell_type": "code",
   "execution_count": 77,
   "id": "b707ad84-6acf-42af-a3e8-213da32ff882",
   "metadata": {
    "tags": []
   },
   "outputs": [
    {
     "name": "stdout",
     "output_type": "stream",
     "text": [
      "---The most expensive watch---\n"
     ]
    },
    {
     "ename": "TypeError",
     "evalue": "'list' object is not callable",
     "output_type": "error",
     "traceback": [
      "\u001b[1;31m---------------------------------------------------------------------------\u001b[0m",
      "\u001b[1;31mTypeError\u001b[0m                                 Traceback (most recent call last)",
      "Cell \u001b[1;32mIn[77], line 2\u001b[0m\n\u001b[0;32m      1\u001b[0m \u001b[38;5;28mprint\u001b[39m(\u001b[38;5;124m'\u001b[39m\u001b[38;5;124m---The most expensive watch---\u001b[39m\u001b[38;5;124m'\u001b[39m)\n\u001b[1;32m----> 2\u001b[0m res \u001b[38;5;241m=\u001b[39m \u001b[43mreduce\u001b[49m\u001b[43m(\u001b[49m\u001b[43minventory\u001b[49m\u001b[43m,\u001b[49m\u001b[43m \u001b[49m\u001b[38;5;28;43mmap\u001b[39;49m\u001b[43m(\u001b[49m\u001b[38;5;28;43;01mlambda\u001b[39;49;00m\u001b[43m \u001b[49m\u001b[43mx\u001b[49m\u001b[43m:\u001b[49m\u001b[43m \u001b[49m\u001b[43mx\u001b[49m\u001b[43m[\u001b[49m\u001b[38;5;241;43m3\u001b[39;49m\u001b[43m]\u001b[49m\u001b[43m,\u001b[49m\u001b[43m \u001b[49m\u001b[43minventory\u001b[49m\u001b[43m)\u001b[49m\u001b[43m)\u001b[49m\n\u001b[0;32m      3\u001b[0m \u001b[38;5;28mprint\u001b[39m(\u001b[38;5;124mf\u001b[39m\u001b[38;5;124m\"\u001b[39m\u001b[38;5;124mThe most expensive watch -> \u001b[39m\u001b[38;5;132;01m{\u001b[39;00mres\u001b[38;5;132;01m}\u001b[39;00m\u001b[38;5;124m\"\u001b[39m)\n\u001b[0;32m      4\u001b[0m price \u001b[38;5;241m=\u001b[39m []\n",
      "\u001b[1;31mTypeError\u001b[0m: 'list' object is not callable"
     ]
    }
   ],
   "source": [
    "print('---The most expensive watch---')\n",
    "res = reduce(inventory, map(lambda x: x[3], inventory))\n",
    "print(f\"The most expensive watch -> {res}\")\n",
    "price = []"
   ]
  },
  {
   "cell_type": "code",
   "execution_count": 81,
   "id": "7854d799-0c72-4fac-96fa-eb4bcc87f357",
   "metadata": {
    "tags": []
   },
   "outputs": [
    {
     "ename": "TypeError",
     "evalue": "sorted expected 1 argument, got 2",
     "output_type": "error",
     "traceback": [
      "\u001b[1;31m---------------------------------------------------------------------------\u001b[0m",
      "\u001b[1;31mTypeError\u001b[0m                                 Traceback (most recent call last)",
      "Cell \u001b[1;32mIn[81], line 5\u001b[0m\n\u001b[0;32m      2\u001b[0m \u001b[38;5;28;01mfor\u001b[39;00m i \u001b[38;5;129;01min\u001b[39;00m inventory:\n\u001b[0;32m      3\u001b[0m     price\u001b[38;5;241m.\u001b[39mappend(i[\u001b[38;5;241m3\u001b[39m])\n\u001b[1;32m----> 5\u001b[0m res2 \u001b[38;5;241m=\u001b[39m \u001b[38;5;28;43msorted\u001b[39;49m\u001b[43m(\u001b[49m\u001b[43minventory\u001b[49m\u001b[43m,\u001b[49m\u001b[43m \u001b[49m\u001b[38;5;28;43;01mlambda\u001b[39;49;00m\u001b[43m \u001b[49m\u001b[43mx\u001b[49m\u001b[43m:\u001b[49m\u001b[43mx\u001b[49m\u001b[43m[\u001b[49m\u001b[38;5;241;43m3\u001b[39;49m\u001b[43m]\u001b[49m\u001b[43m)\u001b[49m\n\u001b[0;32m      6\u001b[0m \u001b[38;5;28mprint\u001b[39m(\u001b[38;5;124mf\u001b[39m\u001b[38;5;124m\"\u001b[39m\u001b[38;5;124mThe most expensive watch -> \u001b[39m\u001b[38;5;132;01m{\u001b[39;00mres2\u001b[38;5;132;01m}\u001b[39;00m\u001b[38;5;124m\"\u001b[39m)\n",
      "\u001b[1;31mTypeError\u001b[0m: sorted expected 1 argument, got 2"
     ]
    }
   ],
   "source": [
    "price = []\n",
    "for i in inventory:\n",
    "    price.append(i[3])\n",
    "\n",
    "res2 = sorted(price, lambda x:x[3])\n",
    "print(f\"The most expensive watch -> {res2}\")"
   ]
  },
  {
   "cell_type": "code",
   "execution_count": null,
   "id": "ea1ca0f6-342b-4909-99e9-be417eef4647",
   "metadata": {},
   "outputs": [],
   "source": [
    "print('---Dictionary---')\n",
    "\n",
    "d = dict(inverntory)\n",
    "print(f'dict ->,{d})\n"
   ]
  },
  {
   "cell_type": "code",
   "execution_count": 66,
   "id": "7efcd9ba-83a2-495d-b8ce-ea3d0bacda42",
   "metadata": {
    "tags": []
   },
   "outputs": [
    {
     "name": "stdout",
     "output_type": "stream",
     "text": [
      "---All watches with quantity greater than 30---\n",
      "quantity > 30 -> [(1, 'Audemars Piguet', 65, 450.5), (4, 'Blancpain', 45, 356.0), (8, 'Ulysse Nardin', 34, 340.0)]\n",
      "Audemars Piguet - 65\n",
      "Blancpain - 45\n",
      "Ulysse Nardin - 34\n"
     ]
    }
   ],
   "source": [
    "print('---All watches with quantity greater than 30---')\n",
    "# A list containing all watches with quantity greater than 30\n",
    "gt = list(filter(lambda x: x[2] > 30, inventory))\n",
    "print('quantity > 30 ->', gt)\n",
    "for i, v in enumerate(gt):\n",
    "    print(f'{gt[i][1]} - {gt[i][2]}')"
   ]
  },
  {
   "cell_type": "code",
   "execution_count": 69,
   "id": "3aae56d8-dc56-45eb-927d-eda0751a357d",
   "metadata": {
    "tags": []
   },
   "outputs": [
    {
     "name": "stdout",
     "output_type": "stream",
     "text": [
      "---New inventory---\n"
     ]
    },
    {
     "ename": "TypeError",
     "evalue": "'bool' object is not iterable",
     "output_type": "error",
     "traceback": [
      "\u001b[1;31m---------------------------------------------------------------------------\u001b[0m",
      "\u001b[1;31mTypeError\u001b[0m                                 Traceback (most recent call last)",
      "Cell \u001b[1;32mIn[69], line 4\u001b[0m\n\u001b[0;32m      2\u001b[0m not_sold_out \u001b[38;5;241m=\u001b[39m \u001b[38;5;28mlist\u001b[39m(\u001b[38;5;28mmap\u001b[39m(\u001b[38;5;28;01mlambda\u001b[39;00m x: x[\u001b[38;5;241m2\u001b[39m] \u001b[38;5;241m>\u001b[39m \u001b[38;5;241m0\u001b[39m, inventory))\n\u001b[0;32m      3\u001b[0m \u001b[38;5;28;01mfor\u001b[39;00m i, v \u001b[38;5;129;01min\u001b[39;00m \u001b[38;5;28menumerate\u001b[39m(not_sold_out):\n\u001b[1;32m----> 4\u001b[0m     not_sold_out[i] \u001b[38;5;241m=\u001b[39m \u001b[38;5;28;43mlist\u001b[39;49m\u001b[43m(\u001b[49m\u001b[43mnot_sold_out\u001b[49m\u001b[43m[\u001b[49m\u001b[43mi\u001b[49m\u001b[43m]\u001b[49m\u001b[43m)\u001b[49m\n\u001b[0;32m      5\u001b[0m     \u001b[38;5;28;01mif\u001b[39;00m not_sold_out[i][\u001b[38;5;241m2\u001b[39m] \u001b[38;5;241m>\u001b[39m \u001b[38;5;241m30\u001b[39m: \u001b[38;5;66;03m# if quantity of watches > 30\u001b[39;00m\n\u001b[0;32m      6\u001b[0m         \u001b[38;5;28;01mif\u001b[39;00m not_sold_out[i][\u001b[38;5;241m3\u001b[39m] \u001b[38;5;241m>\u001b[39m \u001b[38;5;241m500\u001b[39m: \u001b[38;5;66;03m# if price > 500\u001b[39;00m\n",
      "\u001b[1;31mTypeError\u001b[0m: 'bool' object is not iterable"
     ]
    }
   ],
   "source": [
    "print(\"---New inventory---\")\n",
    "not_sold_out = list(map(lambda x: x[2] > 0, inventory))\n",
    "for i, v in enumerate(not_sold_out):\n",
    "    not_sold_out[i] = list(not_sold_out[i])\n",
    "    if not_sold_out[i][2] > 30: # if quantity of watches > 30\n",
    "        if not_sold_out[i][3] > 500: # if price > 500\n",
    "            not_sold_out[i][3] -= 50\n",
    "        else: # if price <= 500\n",
    "            not_sold_out[i][3] -= 30\n",
    "    not_sold_out[i] = tuple(not_sold_out[i])\n",
    "inventory = not_sold_out\n",
    "for i, v in enumerate(inventory):\n",
    "    print('(',inventory[i][1], '-', inventory[i][2],'items)', ' -> ',inventory[i][3],'eur')"
   ]
  }
 ],
 "metadata": {
  "kernelspec": {
   "display_name": "Python 3 (ipykernel)",
   "language": "python",
   "name": "python3"
  },
  "language_info": {
   "codemirror_mode": {
    "name": "ipython",
    "version": 3
   },
   "file_extension": ".py",
   "mimetype": "text/x-python",
   "name": "python",
   "nbconvert_exporter": "python",
   "pygments_lexer": "ipython3",
   "version": "3.11.2"
  }
 },
 "nbformat": 4,
 "nbformat_minor": 5
}
