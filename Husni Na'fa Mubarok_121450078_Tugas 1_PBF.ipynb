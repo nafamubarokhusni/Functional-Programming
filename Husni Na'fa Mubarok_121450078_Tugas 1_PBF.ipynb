{
 "cells": [
  {
   "cell_type": "markdown",
   "id": "08866948-60cf-4138-8767-9defac60a065",
   "metadata": {
    "tags": []
   },
   "source": [
    "## Nomor 1"
   ]
  },
  {
   "cell_type": "code",
   "execution_count": 1,
   "id": "d9141017-23f6-4eae-95d0-4d9b1992512a",
   "metadata": {
    "tags": []
   },
   "outputs": [],
   "source": [
    "import pandas as pd"
   ]
  },
  {
   "cell_type": "markdown",
   "id": "7031020b-f69a-4251-abfd-08d8ab2a456c",
   "metadata": {},
   "source": [
    "1. Jelaskan menggunakan tabel mengenai kelebihan dan kekurangan paradigma procedural dibandingkan dengan object oriented (minimal 3) !"
   ]
  },
  {
   "cell_type": "code",
   "execution_count": 3,
   "id": "057f66a8-751e-4b5f-8cfd-44015724d493",
   "metadata": {
    "tags": []
   },
   "outputs": [
    {
     "name": "stdout",
     "output_type": "stream",
     "text": [
      "                                          kelebihan  \\\n",
      "0       penulisan program sederhana dan terstruktur   \n",
      "1             Mudah dipahami oleh programmer pemula   \n",
      "2  Cocok untuk project atau aplikasi yang sederhana   \n",
      "\n",
      "                                          kekurangan  \n",
      "0     Prosedural kurang aman dibandingkan dengan OOP  \n",
      "1  Tidak ada proses sederhana untuk menambahkan d...  \n",
      "2  Prosedural tidak memiliki access modifiers sep...  \n"
     ]
    }
   ],
   "source": [
    "tabel1= {'kelebihan' :['penulisan program sederhana dan terstruktur', 'Mudah dipahami oleh programmer pemula', 'Cocok untuk project atau aplikasi yang sederhana'],\n",
    "         'kekurangan' : ['Prosedural kurang aman dibandingkan dengan OOP', 'Tidak ada proses sederhana untuk menambahkan data di prosedural, tanpa merevisi seluruh program', 'Prosedural tidak memiliki access modifiers seperti pada OOP']\n",
    "        }\n",
    "df = pd.DataFrame (tabel1)\n",
    "print (df)"
   ]
  },
  {
   "cell_type": "markdown",
   "id": "3abf994a-844a-4e27-a08c-243d48b47150",
   "metadata": {
    "tags": []
   },
   "source": [
    "## Nomor 2"
   ]
  },
  {
   "cell_type": "markdown",
   "id": "b8d9fe6b-71d1-41f3-97f8-4960c19b77b5",
   "metadata": {},
   "source": [
    "2. Jelaskan menggunakan tabel mengenai kelebihan dan kekurangan paradigma object oriented dibandingkan dengan functional (minimal 3) !"
   ]
  },
  {
   "cell_type": "code",
   "execution_count": 4,
   "id": "268f2def-92ff-46b7-9a71-54c6ec132adf",
   "metadata": {
    "tags": []
   },
   "outputs": [
    {
     "name": "stdout",
     "output_type": "stream",
     "text": [
      "                                           kelebihan  \\\n",
      "0                    Maintenance program lebih mudah   \n",
      "1                         Update program lebih mudah   \n",
      "2                     Proses development lebih cepat   \n",
      "3  Script program lebih rapi dan dapat digunakan ...   \n",
      "\n",
      "                                    kekurangan  \n",
      "0                    Kompleks untuk dipelajari  \n",
      "1               Ukuran program OOP lebih besar  \n",
      "2             Runtime program OOP lebih lambat  \n",
      "3  Tidak semua masalah bisa diatasi dengan OOP  \n"
     ]
    }
   ],
   "source": [
    "tabel2= {'kelebihan' :['Maintenance program lebih mudah','Update program lebih mudah', 'Proses development lebih cepat','Script program lebih rapi dan dapat digunakan berulang'],\n",
    "         'kekurangan' : ['Kompleks untuk dipelajari', 'Ukuran program OOP lebih besar', 'Runtime program OOP lebih lambat', 'Tidak semua masalah bisa diatasi dengan OOP']\n",
    "        }\n",
    "df = pd.DataFrame (tabel2)\n",
    "print (df)"
   ]
  },
  {
   "cell_type": "markdown",
   "id": "d3390742-f3a0-4525-b515-95e267761047",
   "metadata": {
    "tags": []
   },
   "source": [
    "## Nomor 3"
   ]
  },
  {
   "cell_type": "markdown",
   "id": "cc3fb12a-7c90-44f7-bacb-2938c445a82e",
   "metadata": {},
   "source": [
    "3. Jelaskan menggunakan tabel mengenai kelebihan dan kekurangan paradigma procedural dibandingkan dengan functional (minimal 3) !"
   ]
  },
  {
   "cell_type": "code",
   "execution_count": 6,
   "id": "c70a6a36-5df3-4d57-b02b-fe9b05151212",
   "metadata": {
    "tags": []
   },
   "outputs": [
    {
     "name": "stdout",
     "output_type": "stream",
     "text": [
      "                                           kelebihan  \\\n",
      "0  Pilihan yang bagus untuk general-purpose progr...   \n",
      "1  Menawarkan cara penulisan kode sekuensial yang...   \n",
      "2                   Mudah untuk melacak alur program   \n",
      "\n",
      "                                          kekurangan  \n",
      "0  Kode pemrograman prosedural tidak dapat diguna...  \n",
      "1  Tidak mudah untuk meningkatkan atau memperluas...  \n",
      "2  Tidak aman, karena visibilitas data di seluruh...  \n"
     ]
    }
   ],
   "source": [
    "tabel3= {'kelebihan' :['Pilihan yang bagus untuk general-purpose programming','Menawarkan cara penulisan kode sekuensial yang sederhana, intuitif, dan lugas', 'Mudah untuk melacak alur program'],\n",
    "         'kekurangan' : ['Kode pemrograman prosedural tidak dapat digunakan kembali', 'Tidak mudah untuk meningkatkan atau memperluas untuk aplikasi yang lebih besar', 'Tidak aman, karena visibilitas data di seluruh program']\n",
    "        }\n",
    "df = pd.DataFrame (tabel3)\n",
    "print (df)"
   ]
  },
  {
   "cell_type": "markdown",
   "id": "92e68719-bb4a-4a1c-839a-cd29633e4f75",
   "metadata": {
    "tags": []
   },
   "source": [
    "## Nomor 4\n"
   ]
  },
  {
   "cell_type": "markdown",
   "id": "207cb214-2fb5-491d-ace9-ec566ae87806",
   "metadata": {},
   "source": [
    "4. Apa yang dimaksud dengan pure functional programming language?"
   ]
  },
  {
   "cell_type": "code",
   "execution_count": null,
   "id": "46d990d2-2a95-474f-88af-5f4a5652eb3b",
   "metadata": {},
   "outputs": [],
   "source": [
    "pemrograman fungsional murni biasanya menunjuk pada paradigma pemrograman—gaya membangun struktur dan elemen program komputer—yang memperlakukan semua komputasi sebagai evaluasi fungsi matematika dan tidak bisa menggunakan paradigma lainnya"
   ]
  },
  {
   "cell_type": "markdown",
   "id": "820b95fa-54c8-4dda-80e6-704a39f4e38e",
   "metadata": {
    "tags": []
   },
   "source": [
    "## Nomor 5\n"
   ]
  },
  {
   "cell_type": "markdown",
   "id": "fee15acc-8f75-423e-86e3-d89dc97f2a23",
   "metadata": {
    "tags": []
   },
   "source": [
    "5. manakah yang termasuk pure functional programming language"
   ]
  },
  {
   "cell_type": "markdown",
   "id": "0a9e860f-9a3a-43f6-81c6-a2ebf2c237f3",
   "metadata": {},
   "source": [
    "- Agda\n",
    "- Clean\n",
    "- Coq\n",
    "- Elm\n",
    "- Haskell\n",
    "- Idris\n",
    "- Lisp\n",
    "- Miranda\n",
    "- Mercury\n",
    "- PureScript"
   ]
  },
  {
   "cell_type": "markdown",
   "id": "8f948c3d-1335-4c56-9e30-4a5c1424d83f",
   "metadata": {},
   "source": [
    "## Nomor 6"
   ]
  },
  {
   "cell_type": "markdown",
   "id": "40680aa0-3fba-49ad-97d6-7c4c14263489",
   "metadata": {},
   "source": [
    "6. Membuat program Simple Password encryption,"
   ]
  },
  {
   "cell_type": "code",
   "execution_count": 12,
   "id": "4077a5ce-7b95-483f-ae25-1338a11c775e",
   "metadata": {},
   "outputs": [],
   "source": [
    "def encrypt_password(pas):\n",
    "    if len(pas) > 100:\n",
    "        return \"Error: Kata terlalu panjang\"\n",
    "\n",
    "    encrypted_password = \"\"\n",
    "    for char in pas:\n",
    "        ascii_value = ord(char)\n",
    "        first_value = round((ascii_value / 26)) + 80\n",
    "        second_value = (ascii_value % 26) + 80\n",
    "        third_value = '+' if first_value > second_value else '-'\n",
    "        encrypted_password += chr(first_value) + chr(second_value) + third_value\n",
    "\n",
    "    return encrypted_password\n"
   ]
  },
  {
   "cell_type": "code",
   "execution_count": 13,
   "id": "1a959623-c47d-4a4c-a89f-70a74dee842d",
   "metadata": {},
   "outputs": [
    {
     "name": "stdout",
     "output_type": "stream",
     "text": [
      "TX-Tc-T[-T\\-TQ+TT-T]-TT-T]-T[-TX-Td-Th-Ri-Rh-Rg-\n"
     ]
    }
   ],
   "source": [
    "print(encrypt_password(\"pastiluluspbf321\"))\n"
   ]
  }
 ],
 "metadata": {
  "kernelspec": {
   "display_name": "Python 3 (ipykernel)",
   "language": "python",
   "name": "python3"
  },
  "language_info": {
   "codemirror_mode": {
    "name": "ipython",
    "version": 3
   },
   "file_extension": ".py",
   "mimetype": "text/x-python",
   "name": "python",
   "nbconvert_exporter": "python",
   "pygments_lexer": "ipython3",
   "version": "3.11.1"
  }
 },
 "nbformat": 4,
 "nbformat_minor": 5
}
